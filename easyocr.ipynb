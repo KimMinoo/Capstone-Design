{
  "cells": [
    {
      "cell_type": "markdown",
      "metadata": {
        "id": "view-in-github",
        "colab_type": "text"
      },
      "source": [
        "<a href=\"https://colab.research.google.com/github/KimMinoo/Capstone-Design/blob/main/easyocr.ipynb\" target=\"_parent\"><img src=\"https://colab.research.google.com/assets/colab-badge.svg\" alt=\"Open In Colab\"/></a>"
      ]
    },
    {
      "cell_type": "code",
      "execution_count": null,
      "metadata": {
        "id": "GhLO0i6EZxyh"
      },
      "outputs": [],
      "source": [
        "!git clone https://github.com/clovaai/deep-text-recognition-benchmark\n",
        "!pip install easyocr"
      ]
    },
    {
      "cell_type": "code",
      "execution_count": null,
      "metadata": {
        "colab": {
          "background_save": true
        },
        "id": "Tu2ewYkynJs9"
      },
      "outputs": [],
      "source": [
        "from google.colab import drive\n",
        "drive.mount('/content/drive')"
      ]
    },
    {
      "cell_type": "code",
      "execution_count": null,
      "metadata": {
        "id": "Hqf4bBYIoHt4"
      },
      "outputs": [],
      "source": [
        "import os \n",
        "directory_path1 = '/content/deep-text-recognition-benchmark'\n",
        "directory_name1 = 'data'\n",
        "full_path1 = os.path.join(directory_path1, directory_name1)\n",
        "os.makedirs(full_path1, exist_ok=True)\n",
        "\n",
        "directory_path1 = '/content/deep-text-recognition-benchmark'\n",
        "directory_name1 = 'pretrained_model'\n",
        "full_path1 = os.path.join(directory_path1, directory_name1)\n",
        "os.makedirs(full_path1, exist_ok=True)\n",
        "\n",
        "directory_path1 = '/content/deep-text-recognition-benchmark'\n",
        "directory_name1 = 'user_network_dir'\n",
        "full_path1 = os.path.join(directory_path1, directory_name1)\n",
        "os.makedirs(full_path1, exist_ok=True)\n",
        "\n",
        "# directory_path1 = '/content/deep-text-recognition-benchmark'\n",
        "# directory_name1 = 'demo_images'\n",
        "# full_path1 = os.path.join(directory_path1, directory_name1)\n",
        "# os.makedirs(full_path1, exist_ok=True)\n",
        "\n",
        "directory_path3 = '/content/deep-text-recognition-benchmark/data'\n",
        "directory_name3 = 'train'\n",
        "full_path3 = os.path.join(directory_path3, directory_name3)\n",
        "os.makedirs(full_path3, exist_ok=True)\n",
        "\n",
        "directory_path4 = '/content/deep-text-recognition-benchmark/data'\n",
        "directory_name4 = 'valid'\n",
        "full_path4 = os.path.join(directory_path4, directory_name4)\n",
        "os.makedirs(full_path4, exist_ok=True)\n",
        "\n",
        "directory_path5 = '/content/deep-text-recognition-benchmark/data'\n",
        "directory_name5 = 'test'\n",
        "full_path5 = os.path.join(directory_path5, directory_name5)\n",
        "os.makedirs(full_path5, exist_ok=True)\n",
        "\n",
        "directory_path6 = '/content/deep-text-recognition-benchmark/data'\n",
        "directory_name6 = 'train_data'\n",
        "full_path6 = os.path.join(directory_path6, directory_name6)\n",
        "os.makedirs(full_path6, exist_ok=True)\n",
        "\n",
        "directory_path7 = '/content/deep-text-recognition-benchmark/data'\n",
        "directory_name7 = 'valid_data'\n",
        "full_path7 = os.path.join(directory_path7, directory_name7)\n",
        "os.makedirs(full_path7, exist_ok=True)\n",
        "\n",
        "directory_path8 = '/content/deep-text-recognition-benchmark/data'\n",
        "directory_name8 = 'test_data'\n",
        "full_path8 = os.path.join(directory_path8, directory_name8)\n",
        "os.makedirs(full_path8, exist_ok=True)"
      ]
    },
    {
      "cell_type": "code",
      "execution_count": null,
      "metadata": {
        "id": "rSjx5-y3bKRt"
      },
      "outputs": [],
      "source": [
        "!wget https://github.com/JaidedAI/EasyOCR/releases/download/v1.3/korean_g2.zip -O /content/deep-text-recognition-benchmark/korean_g2.zip\n",
        "!unzip /content/deep-text-recognition-benchmark/korean_g2.zip -d /content/deep-text-recognition-benchmark/pretrained_model\n",
        "# !cp /content/drive/MyDrive/korean_learning/custom.pth /content/deep-text-recognition-benchmark/pretrained_model/custom.pth\n"
      ]
    },
    {
      "cell_type": "code",
      "execution_count": null,
      "metadata": {
        "id": "HY-LGK9RaRqQ"
      },
      "outputs": [],
      "source": [
        "from google.colab.patches import cv2_imshow\n",
        "import json\n",
        "import cv2\n",
        "import glob\n",
        "\n",
        "image_path=glob.glob('/content/train_image/*.jpg')\n",
        "\n",
        "n_train = int(len(image_path)*0.8)\n",
        "\n",
        "train_image_path=image_path[:n_train]\n",
        "test_image_path=image_path[n_train:]\n",
        "valid_image_path=glob.glob('/content/validation_image/*.jpg')\n",
        "\n",
        "j=0\n",
        "f = open(\"/content/deep-text-recognition-benchmark/data/valid_gt.txt\", 'w', encoding=\"UTF8\")   \n",
        "for i in range(len(valid_image_path)):\n",
        "  img=cv2.imread(valid_image_path[i])\n",
        "  a, b = os.path.splitext(valid_image_path[i])\n",
        "  c = a.replace('validation_image', 'validation_labeling')\n",
        "  valid_label_path = c + '.json'\n",
        "  with open(valid_label_path, 'r') as file:\n",
        "    json_data = json.load(file)\n",
        "\n",
        "  for data in json_data['text']['word']:\n",
        "    bbox = data['wordbox']\n",
        "    word = data['value']\n",
        "    x, y, x2, y2 = bbox[0], bbox[1], bbox[2], bbox[3]\n",
        "    crop_image=img[y:y2, x:x2]\n",
        "    save_file=f'/content/deep-text-recognition-benchmark/data/valid/{j}'+\".jpg\"\n",
        "    cv2.imwrite(save_file,crop_image)\n",
        "    f.write(save_file+\"\\t\"+word+\"\\n\")\n",
        "    j+=1\n",
        "f.close()\n",
        "\n",
        "j=0\n",
        "f = open(\"/content/deep-text-recognition-benchmark/data/train_gt.txt\", 'w', encoding=\"UTF8\")   \n",
        "for i in range(len(train_image_path)):\n",
        "  img=cv2.imread(train_image_path[i])\n",
        "  a, b = os.path.splitext(train_image_path[i])\n",
        "  c = a.replace('train_image', 'train_labeling')\n",
        "  train_label_path = c + '.json'\n",
        "  with open(train_label_path, 'r') as file:\n",
        "    json_data = json.load(file)\n",
        "\n",
        "  for data in json_data['text']['word']:\n",
        "    bbox = data['wordbox']\n",
        "    word = data['value']\n",
        "    x, y, x2, y2 = bbox[0], bbox[1], bbox[2], bbox[3]\n",
        "    crop_image=img[y:y2, x:x2]\n",
        "    save_file=f'/content/deep-text-recognition-benchmark/data/train/{j}'+\".jpg\"\n",
        "    cv2.imwrite(save_file,crop_image)\n",
        "    f.write(save_file+\"\\t\"+word+\"\\n\")\n",
        "    j+=1\n",
        "f.close()\n",
        "\n",
        "j=0\n",
        "f = open(\"/content/deep-text-recognition-benchmark/data/test_gt.txt\", 'w', encoding=\"UTF8\")   \n",
        "for i in range(len(test_image_path)):\n",
        "  img=cv2.imread(test_image_path[i])\n",
        "  a, b = os.path.splitext(test_image_path[i])\n",
        "  c = a.replace('train_image', 'train_labeling')\n",
        "  test_label_path = c + '.json'\n",
        "  with open(test_label_path, 'r') as file:\n",
        "    json_data = json.load(file)\n",
        "\n",
        "  for data in json_data['text']['word']:\n",
        "    bbox = data['wordbox']\n",
        "    word = data['value']\n",
        "    x, y, x2, y2 = bbox[0], bbox[1], bbox[2], bbox[3]\n",
        "    crop_image=img[y:y2, x:x2]\n",
        "    save_file=f'/content/deep-text-recognition-benchmark/data/test/{j}'+\".jpg\"\n",
        "    cv2.imwrite(save_file,crop_image)\n",
        "    f.write(save_file+\"\\t\"+word+\"\\n\")\n",
        "    j+=1\n",
        "f.close()"
      ]
    },
    {
      "cell_type": "code",
      "execution_count": null,
      "metadata": {
        "id": "XQfh67pleT8N"
      },
      "outputs": [],
      "source": [
        "!sudo chmod +x /content/deep-text-recognition-benchmark/create_lmdb_dataset.py\n",
        "!sudo chmod +x /content/deep-text-recognition-benchmark/train.py\n",
        "!pip install fire\n",
        "!pip install lmdb\n",
        "# training 데이터 변환\n",
        "!python /content/deep-text-recognition-benchmark/create_lmdb_dataset.py --gtFile \"/content/deep-text-recognition-benchmark/data/train_gt.txt\" --inputPath \"/content/deep-text-recognition-benchmark/data/train\" --outputPath \"/content/deep-text-recognition-benchmark/data/train_data\"\n",
        "\n",
        "# validation 데이터 변환\n",
        "!python /content/deep-text-recognition-benchmark/create_lmdb_dataset.py --gtFile \"/content/deep-text-recognition-benchmark/data/valid_gt.txt\" --inputPath \"/content/deep-text-recognition-benchmark/data/valid\" --outputPath \"/content/deep-text-recognition-benchmark/data/valid_data\"\n",
        "\n",
        "# test 데이터 변환\n",
        "!python /content/deep-text-recognition-benchmark/create_lmdb_dataset.py --gtFile \"/content/deep-text-recognition-benchmark/data/test_gt.txt\" --inputPath \"/content/deep-text-recognition-benchmark/data/test\" --outputPath \"/content/deep-text-recognition-benchmark/data/test_data\"\n"
      ]
    },
    {
      "cell_type": "code",
      "execution_count": null,
      "metadata": {
        "id": "76eh9Iove_ZX"
      },
      "outputs": [],
      "source": [
        "# character 적용을 위한 소스코드 수정을 피하고 싶은 경우\n",
        "!python /content/deep-text-recognition-benchmark/train.py \\\n",
        "--train_data \"/content/deep-text-recognition-benchmark/data/train_data\" \\\n",
        "--valid_data \"/content/deep-text-recognition-benchmark/data/valid_data\" \\\n",
        "--select_data / \\\n",
        "--batch_ratio 1 \\\n",
        "--Transformation None \\\n",
        "--FeatureExtraction \"VGG\" \\\n",
        "--SequenceModeling \"BiLSTM\" \\\n",
        "--Prediction \"CTC\" \\\n",
        "--input_channel 1 \\\n",
        "--output_channel 256 \\\n",
        "--hidden_size 256 \\\n",
        "\n",
        "# deep-text-recognition-benchmark 프로젝트 'train.py'의 285라인에 아래 코드를 삽입한다.\n",
        "# 아래 character는 EasyOCR 프로젝트 './easyocr/config.py'의 'korean_g2' > 'character'에 해당한다.\n",
        "#opt.character = \" !\\\"#$%&'()*+,-./0123456789:;<=>?@ABCDEFGHIJKLMNOPQRSTUVWXYZ[\\\\]^_`abcdefghijklmnopqrstuvwxyz{|}~가각간갇갈감갑값강갖같갚갛개객걀거걱건걷걸검겁것겉게겨격겪견결겹경곁계고곡곤곧골곰곱곳공과관광괜괴굉교구국군굳굴굵굶굽궁권귀규균그극근글긁금급긋긍기긴길김깅깊까깎깐깔깜깝깥깨꺼꺾껍껏껑께껴꼬꼭꼴꼼꼽꽂꽃꽉꽤꾸꿀꿈뀌끄끈끊끌끓끔끗끝끼낌나낙낚난날낡남납낫낭낮낯낱낳내냄냉냐냥너넉널넓넘넣네넥넷녀녁년념녕노녹논놀놈농높놓놔뇌뇨누눈눕뉘뉴늄느늑는늘늙능늦늬니닐님다닥닦단닫달닭닮담답닷당닿대댁댐더덕던덜덤덥덧덩덮데델도독돈돌돕동돼되된두둑둘둠둡둥뒤뒷드득든듣들듬듭듯등디딩딪따딱딴딸땀땅때땜떠떡떤떨떻떼또똑뚜뚫뚱뛰뜨뜩뜯뜰뜻띄라락란람랍랑랗래랜램랫략량러럭런럴럼럽럿렁렇레렉렌려력련렬렵령례로록론롬롭롯료루룩룹룻뤄류륙률륭르른름릇릎리릭린림립릿마막만많말맑맘맙맛망맞맡맣매맥맨맵맺머먹먼멀멈멋멍멎메멘멩며면멸명몇모목몰몸몹못몽묘무묵묶문묻물뭄뭇뭐뭣므미민믿밀밉밌및밑바박밖반받발밝밟밤밥방밭배백뱀뱃뱉버번벌범법벗베벤벼벽변별볍병볕보복볶본볼봄봇봉뵈뵙부북분불붉붐붓붕붙뷰브블비빌빗빚빛빠빨빵빼뺨뻐뻔뻗뼈뽑뿌뿐쁘쁨사삭산살삶삼상새색샌생서석섞선설섬섭섯성세센셈셋션소속손솔솜솟송솥쇄쇠쇼수숙순술숨숫숲쉬쉽슈스슨슬슴습슷승시식신싣실싫심십싱싶싸싹쌀쌍쌓써썩썰썹쎄쏘쏟쑤쓰쓸씀씌씨씩씬씹씻아악안앉않알앓암압앗앙앞애액야약얇양얗얘어억언얹얻얼엄업없엇엉엌엎에엔엘여역연열엷염엽엿영옆예옛오옥온올옮옳옷와완왕왜왠외왼요욕용우욱운울움웃웅워원월웨웬위윗유육율으윽은을음응의이익인일읽잃임입잇있잊잎자작잔잖잘잠잡장잦재쟁저적전절젊점접젓정젖제젠젯져조족존졸좀좁종좋좌죄주죽준줄줌줍중쥐즈즉즌즐즘증지직진질짐집짓징짙짚짜짝짧째쨌쩌쩍쩐쪽쫓쭈쭉찌찍찢차착찬찮찰참창찾채책챔챙처척천철첫청체쳐초촉촌총촬최추축춘출춤춥춧충취츠측츰층치칙친칠침칭카칸칼캐캠커컨컬컴컵컷켓켜코콜콤콩쾌쿠퀴크큰클큼키킬타탁탄탈탑탓탕태택탤터턱털텅테텍텔템토톤톱통퇴투툼퉁튀튜트특튼튿틀틈티틱팀팅파팎판팔패팩팬퍼퍽페펴편펼평폐포폭표푸푹풀품풍퓨프플픔피픽필핏핑하학한할함합항해핵핸햄햇행향허헌험헤헬혀현혈협형혜호혹혼홀홍화확환활황회획횟효후훈훌훔훨휘휴흉흐흑흔흘흙흡흥흩희흰히힘\"\n"
      ]
    },
    {
      "cell_type": "code",
      "execution_count": null,
      "metadata": {
        "id": "485Ii0nEmdMT"
      },
      "outputs": [],
      "source": [
        "!cp /content/saved_models/None-VGG-BiLSTM-CTC-Seed1111/best_accuracy.pth /content/drive/MyDrive/korean_learning/"
      ]
    }
  ],
  "metadata": {
    "accelerator": "GPU",
    "colab": {
      "provenance": [],
      "authorship_tag": "ABX9TyO9YHZHw/VJnzNhYa98JOc/",
      "include_colab_link": true
    },
    "gpuClass": "standard",
    "kernelspec": {
      "display_name": "Python 3",
      "name": "python3"
    },
    "language_info": {
      "name": "python"
    }
  },
  "nbformat": 4,
  "nbformat_minor": 0
}