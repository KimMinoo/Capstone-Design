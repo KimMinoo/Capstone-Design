{
  "cells": [
    {
      "cell_type": "markdown",
      "metadata": {
        "id": "view-in-github",
        "colab_type": "text"
      },
      "source": [
        "<a href=\"https://colab.research.google.com/github/KimMinoo/Capstone-Design/blob/main/yolov8.ipynb\" target=\"_parent\"><img src=\"https://colab.research.google.com/assets/colab-badge.svg\" alt=\"Open In Colab\"/></a>"
      ]
    },
    {
      "cell_type": "markdown",
      "metadata": {
        "id": "o2bMd8gO6miE"
      },
      "source": [
        "Yolov8 학습 코드"
      ]
    },
    {
      "cell_type": "code",
      "execution_count": null,
      "metadata": {
        "id": "pp8_TeykV5SS"
      },
      "outputs": [],
      "source": [
        "!git clone https://github.com/ultralytics/ultralytics\n",
        "%cd ultralytics\n",
        "%pip install -e ."
      ]
    },
    {
      "cell_type": "code",
      "execution_count": null,
      "metadata": {
        "id": "VMNVFYA3W3qk"
      },
      "outputs": [],
      "source": [
        "from google.colab import drive\n",
        "drive.mount('/content/drive')"
      ]
    },
    {
      "cell_type": "code",
      "execution_count": null,
      "metadata": {
        "id": "SLtwp0mNWWHo"
      },
      "outputs": [],
      "source": [
        "from ultralytics import YOLO\n",
        "from multiprocessing import freeze_support"
      ]
    },
    {
      "cell_type": "code",
      "execution_count": null,
      "metadata": {
        "id": "mnielGFdWWRH"
      },
      "outputs": [],
      "source": [
        "if __name__ == '__main__':\n",
        "    freeze_support()\n",
        "    try:\n",
        "        # Load a model\n",
        "        model = YOLO('yolov8n.pt')  # build a new model from scratch\n",
        "        model.train(data=\"/content/drive/MyDrive/yolov8_data/mvp2.yaml\", pretrained=True, patience=800 ,epochs=800, optimizer = 'Adam', imgsz=720, batch=8, lr0 = 0.001, lrf=0.001, project=\"/content/drive/MyDrive/yolov8\")  # train the model\n",
        "    except Exception as e:\n",
        "        #failList.append(1)\n",
        "        print(\"An exception was raised:\", e)"
      ]
    },
    {
      "cell_type": "markdown",
      "metadata": {
        "id": "OcIgZvb_6u6E"
      },
      "source": [
        "Yolov8 Detection 코드"
      ]
    },
    {
      "cell_type": "code",
      "execution_count": null,
      "metadata": {
        "id": "tTO4EeCs3i6U"
      },
      "outputs": [],
      "source": [
        "import torch\n",
        "from IPython.display import Image, clear_output\n",
        "import cv2\n",
        "import os"
      ]
    },
    {
      "cell_type": "code",
      "execution_count": null,
      "metadata": {
        "id": "PPqQgxyl-bdb"
      },
      "outputs": [],
      "source": [
        "model = YOLO('/content/drive/MyDrive/yolov8/train2/weights/best.pt')\n",
        "\n",
        "directory = '/content/drive/MyDrive/yolov3/check_image'#evaluation할 이미지 위치\n",
        "\n",
        "model.predict(directory, save=True, save_txt=True, imgsz=720, conf=0.5)\n",
        "\n",
        "import glob\n",
        "from google.colab.patches import cv2_imshow\n",
        "img_list = glob.glob(\"/content/drive/MyDrive/yolov8/detect/predict/*.jpg\")\n",
        "for i in range(len(img_list)):\n",
        "  img = cv2.imread(str(img_list[i]))\n",
        "  cv2_imshow(img)"
      ]
    },
    {
      "cell_type": "markdown",
      "metadata": {
        "id": "frVP2teG7OU9"
      },
      "source": [
        "Yolov8 text 추출 코드"
      ]
    },
    {
      "cell_type": "code",
      "execution_count": null,
      "metadata": {
        "id": "71GTuwjjFvIu"
      },
      "outputs": [],
      "source": [
        "!pip install easyocr\n"
      ]
    },
    {
      "cell_type": "code",
      "execution_count": null,
      "metadata": {
        "id": "lXkNQkGxGQsn"
      },
      "outputs": [],
      "source": [
        "import os\n",
        "import yaml \n",
        "directory_path1 = '/usr/local/lib/python3.10/dist-packages/easyocr'\n",
        "directory_name1 = 'user_network'\n",
        "full_path1 = os.path.join(directory_path1, directory_name1)\n",
        "os.makedirs(full_path1, exist_ok=True)\n",
        "\n",
        "!cp /content/drive/MyDrive/korean_learning/custom.pth /usr/local/lib/python3.10/dist-packages/easyocr/user_network/custom.pth\n",
        "\n",
        "\n",
        "!cp /content/drive/MyDrive/korean_learning/custom.yaml /usr/local/lib/python3.10/dist-packages/easyocr/user_network/custom.yaml\n",
        "\n",
        "!cp /content/drive/MyDrive/korean_learning/custom.py /usr/local/lib/python3.10/dist-packages/easyocr/user_network/custom.py"
      ]
    },
    {
      "cell_type": "code",
      "execution_count": null,
      "metadata": {
        "id": "Y3m9pJj6MJRd"
      },
      "outputs": [],
      "source": [
        "import easyocr\n",
        "\n",
        "# reader = easyocr.Reader(['en', 'ko'], gpu=True)\n",
        "\n",
        "reader = easyocr.Reader(['ko'], gpu=True,\n",
        "                    model_storage_directory='/usr/local/lib/python3.10/dist-packages/easyocr/user_network',\n",
        "                    user_network_directory='/usr/local/lib/python3.10/dist-packages/easyocr/user_network',\n",
        "                    recog_network='custom')\n"
      ]
    },
    {
      "cell_type": "code",
      "execution_count": null,
      "metadata": {
        "id": "cvrPSQT_pn4e"
      },
      "outputs": [],
      "source": [
        "txtdir = '/content/drive/MyDrive/yolov8/detects/predict/labels/1110077.txt'\n",
        "imgdir = '/content/drive/MyDrive/yolov8/detects/predict/1110077.jpg'\n",
        "#imgdir = './runs/detect/predict/1110012.jpg'\n",
        "\n",
        "def to_int_and_float(label_data):\n",
        "    label_data[0] = int(label_data[0])    \n",
        "    label_data[1] = float(label_data[1])\n",
        "    label_data[2] = float(label_data[2])\n",
        "    label_data[3] = float(label_data[3])\n",
        "    label_data[4] = float(label_data[4])\n",
        "    return label_data\n",
        "\n",
        "\n",
        "with open(txtdir, 'r') as file:\n",
        "    vvoundary_datas=[]\n",
        "    label_datas = []\n",
        "    # Loop through the lines in the file\n",
        "    for line in file:\n",
        "        label_data = list(line.split())\n",
        "        label_data = to_int_and_float(label_data)\n",
        "        if label_data[0] == 4:\n",
        "          vvoundary_datas.append(label_data)\n",
        "        else:\n",
        "          label_datas.append(label_data)\n",
        "\n",
        "vvoundary_datas.sort(key = lambda x:x[2])\n",
        "label_datas.sort(key = lambda x:x[2])\n",
        "\n",
        "print(vvoundary_datas)"
      ]
    },
    {
      "cell_type": "code",
      "execution_count": null,
      "metadata": {
        "id": "pDdUZjTnwfVe"
      },
      "outputs": [],
      "source": [
        "from google.colab.patches import cv2_imshow\n",
        "import cv2\n",
        "images = cv2.imread(imgdir)\n",
        "\n",
        "# image = cv2.fastNlMeansDenoisingColored(images, None, 10, 10, 5, 10)\n",
        "# gray = cv2.cvtColor(dst, cv2.COLOR_BGR2GRAY)\n",
        "# ret, image = cv2.threshold(gray, 180, 255, cv2.THRESH_BINARY)\n",
        "# image = cv2.fastNlMeansDenoising(dst,h=10)\n",
        "\n",
        "cv2_imshow(image)\n",
        "cv2.imwrite('/content/folder/image.jpg', image)\n",
        "\n",
        "image_height, image_width, _ = images.shape\n",
        "label_class = {0:'vocab', 1:'meaning', 2:'example', 3:'syntax', 4:'vvoundary'}\n"
      ]
    },
    {
      "cell_type": "code",
      "execution_count": null,
      "metadata": {
        "id": "-pfE0fvE81vX"
      },
      "outputs": [],
      "source": []
    },
    {
      "cell_type": "code",
      "execution_count": null,
      "metadata": {
        "id": "wFiPTEtpHSxr"
      },
      "outputs": [],
      "source": [
        "import pandas as pd\n",
        "import numpy as np\n",
        "import matplotlib.pyplot as plt\n",
        "\n",
        "data = pd.DataFrame(data=[[0, 1, 2]])\n",
        "data.columns = [\"vocab\", \"meaning\", \"example\"]\n",
        "vocab_list=[]\n",
        "meaning_list=[]\n",
        "example_list=[]\n",
        "\n",
        "for k,vvoundary_data in enumerate(vvoundary_datas):\n",
        "    boundary_top = int((vvoundary_data[2] - vvoundary_data[4] / 2) * image_height)\n",
        "    boundary_bottom = int((vvoundary_data[2] + vvoundary_data[4] / 2) * image_height)\n",
        "    boundary = {}\n",
        "\n",
        "    for bbox in label_datas:\n",
        "        left = int((bbox[1] - bbox[3] / 2) * image_width)\n",
        "        right = int((bbox[1] + bbox[3] / 2) * image_width)\n",
        "        top = int((bbox[2] - bbox[4] / 2) * image_height)\n",
        "        bottom = int((bbox[2] + bbox[4] / 2) * image_height)\n",
        "        roi = image[top:bottom, left:right]\n",
        "\n",
        "        if top < boundary_top or bottom > boundary_bottom:\n",
        "            continue\n",
        "        \n",
        "        \n",
        "        boundary[bbox[0]] = reader.readtext(roi, detail=0)\n",
        "\n",
        "\n",
        "\n",
        "    class_list = list(boundary.keys())\n",
        "    class_list.sort()\n",
        "    if class_list[0] == 0: \n",
        "      for i in range(len(class_list)):\n",
        "        if class_list[i] == 0:\n",
        "          vocab_list.append(boundary[0])\n",
        "        elif class_list[i] == 1:\n",
        "          meaning_list.append(boundary[1])\n",
        "        elif class_list[i] == 2: \n",
        "          example_list.append(boundary[2])\n",
        "    else:\n",
        "        if class_list[i] == 0:\n",
        "          vocab_list.append(vocab_list[-1])\n",
        "        elif class_list[i] == 1:\n",
        "          meaning_list.append(meaning_list[-1])\n",
        "        elif class_list[i] == 2: \n",
        "          example_list.append(boundary[2])\n",
        "\n",
        "\n",
        "for j in range(len(vocab_list)):\n",
        "  data.loc[j]=[vocab_list[j], meaning_list[j], example_list[j]]\n",
        "\n",
        "data\n"
      ]
    },
    {
      "cell_type": "code",
      "execution_count": null,
      "metadata": {
        "id": "TiXXTRWvOKO3"
      },
      "outputs": [],
      "source": [
        " # data.to_excel('foo.xlsx', sheet_name='Sheet1')"
      ]
    },
    {
      "cell_type": "code",
      "execution_count": null,
      "metadata": {
        "id": "Klsw7LxiWWcR"
      },
      "outputs": [],
      "source": []
    }
  ],
  "metadata": {
    "accelerator": "GPU",
    "colab": {
      "machine_shape": "hm",
      "provenance": [],
      "authorship_tag": "ABX9TyOEj9lBS5D5rO6QyXhZbdw9",
      "include_colab_link": true
    },
    "gpuClass": "standard",
    "kernelspec": {
      "display_name": "Python 3",
      "name": "python3"
    },
    "language_info": {
      "name": "python"
    }
  },
  "nbformat": 4,
  "nbformat_minor": 0
}